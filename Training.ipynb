{
 "cells": [
  {
   "cell_type": "code",
   "execution_count": 1,
   "id": "9430f46e",
   "metadata": {},
   "outputs": [
    {
     "name": "stderr",
     "output_type": "stream",
     "text": [
      "/Library/Frameworks/Python.framework/Versions/3.11/lib/python3.11/site-packages/keras/src/backend.py:452: UserWarning: `tf.keras.backend.set_learning_phase` is deprecated and will be removed after 2020-10-11. To update it, simply pass a True/False value to the `training` argument of the `__call__` method of your layer or model.\n",
      "  warnings.warn(\n"
     ]
    }
   ],
   "source": [
    "import numpy as np\n",
    "from keras import layers\n",
    "from keras.layers import Input, Add, Dense, Activation, ZeroPadding2D, BatchNormalization, Dropout, Flatten, Conv2D, AveragePooling2D, MaxPooling2D, GlobalMaxPooling2D\n",
    "from keras.models import Model, load_model\n",
    "from keras.preprocessing import image\n",
    "# from keras.utils import layer_utils\n",
    "# from keras.utils.data_utils import get_file\n",
    "from keras.applications.imagenet_utils import preprocess_input\n",
    "from IPython.display import SVG\n",
    "# from keras.utils.vis_utils import model_to_dot\n",
    "from keras.initializers import glorot_uniform\n",
    "import scipy.misc\n",
    "from matplotlib.pyplot import imshow\n",
    "%matplotlib inline\n",
    "\n",
    "import keras.backend as K\n",
    "K.set_image_data_format('channels_last')\n",
    "K.set_learning_phase(1)"
   ]
  },
  {
   "cell_type": "code",
   "execution_count": 2,
   "id": "371e1568",
   "metadata": {},
   "outputs": [
    {
     "ename": "FileNotFoundError",
     "evalue": "[Errno 2] No such file or directory: 'Y_train.npy'",
     "output_type": "error",
     "traceback": [
      "\u001b[0;31m---------------------------------------------------------------------------\u001b[0m",
      "\u001b[0;31mFileNotFoundError\u001b[0m                         Traceback (most recent call last)",
      "Cell \u001b[0;32mIn[2], line 1\u001b[0m\n\u001b[0;32m----> 1\u001b[0m Y_train \u001b[38;5;241m=\u001b[39m \u001b[43mnp\u001b[49m\u001b[38;5;241;43m.\u001b[39;49m\u001b[43mload\u001b[49m\u001b[43m(\u001b[49m\u001b[38;5;124;43m'\u001b[39;49m\u001b[38;5;124;43mY_train.npy\u001b[39;49m\u001b[38;5;124;43m'\u001b[39;49m\u001b[43m)\u001b[49m\n\u001b[1;32m      2\u001b[0m X_train \u001b[38;5;241m=\u001b[39m np\u001b[38;5;241m.\u001b[39mload(\u001b[38;5;124m'\u001b[39m\u001b[38;5;124mX_train.npy\u001b[39m\u001b[38;5;124m'\u001b[39m)\n\u001b[1;32m      3\u001b[0m Y_test \u001b[38;5;241m=\u001b[39m np\u001b[38;5;241m.\u001b[39mload(\u001b[38;5;124m'\u001b[39m\u001b[38;5;124mY_test.npy\u001b[39m\u001b[38;5;124m'\u001b[39m)\n",
      "File \u001b[0;32m/Library/Frameworks/Python.framework/Versions/3.11/lib/python3.11/site-packages/numpy/lib/npyio.py:427\u001b[0m, in \u001b[0;36mload\u001b[0;34m(file, mmap_mode, allow_pickle, fix_imports, encoding, max_header_size)\u001b[0m\n\u001b[1;32m    425\u001b[0m     own_fid \u001b[38;5;241m=\u001b[39m \u001b[38;5;28;01mFalse\u001b[39;00m\n\u001b[1;32m    426\u001b[0m \u001b[38;5;28;01melse\u001b[39;00m:\n\u001b[0;32m--> 427\u001b[0m     fid \u001b[38;5;241m=\u001b[39m stack\u001b[38;5;241m.\u001b[39menter_context(\u001b[38;5;28;43mopen\u001b[39;49m\u001b[43m(\u001b[49m\u001b[43mos_fspath\u001b[49m\u001b[43m(\u001b[49m\u001b[43mfile\u001b[49m\u001b[43m)\u001b[49m\u001b[43m,\u001b[49m\u001b[43m \u001b[49m\u001b[38;5;124;43m\"\u001b[39;49m\u001b[38;5;124;43mrb\u001b[39;49m\u001b[38;5;124;43m\"\u001b[39;49m\u001b[43m)\u001b[49m)\n\u001b[1;32m    428\u001b[0m     own_fid \u001b[38;5;241m=\u001b[39m \u001b[38;5;28;01mTrue\u001b[39;00m\n\u001b[1;32m    430\u001b[0m \u001b[38;5;66;03m# Code to distinguish from NumPy binary files and pickles.\u001b[39;00m\n",
      "\u001b[0;31mFileNotFoundError\u001b[0m: [Errno 2] No such file or directory: 'Y_train.npy'"
     ]
    }
   ],
   "source": [
    "Y_train = np.load('Y_train.npy')\n",
    "X_train = np.load('X_train.npy')\n",
    "Y_test = np.load('Y_test.npy')\n",
    "X_test = np.load('X_test.npy')"
   ]
  },
  {
   "cell_type": "code",
   "execution_count": null,
   "id": "645b48fe",
   "metadata": {},
   "outputs": [],
   "source": [
    "import matplotlib.pyplot as plt"
   ]
  },
  {
   "cell_type": "code",
   "execution_count": null,
   "id": "bc170314",
   "metadata": {},
   "outputs": [
    {
     "data": {
      "text/plain": [
       "(32, 32, 12548)"
      ]
     },
     "execution_count": 4,
     "metadata": {},
     "output_type": "execute_result"
    }
   ],
   "source": [
    "Y_train.shape"
   ]
  },
  {
   "cell_type": "code",
   "execution_count": null,
   "id": "429e106d",
   "metadata": {},
   "outputs": [
    {
     "data": {
      "text/plain": [
       "(32, 32, 12, 12548)"
      ]
     },
     "execution_count": 5,
     "metadata": {},
     "output_type": "execute_result"
    }
   ],
   "source": [
    "X_train.shape"
   ]
  },
  {
   "cell_type": "code",
   "execution_count": null,
   "id": "8f66d1d9",
   "metadata": {},
   "outputs": [],
   "source": [
    "m = X_train.shape[0]\n",
    "m_test = X_test.shape[0]\n",
    "n_h = X_train.shape[1]\n",
    "n_w = X_train.shape[2]\n",
    "n_features = X_train.shape[3]"
   ]
  },
  {
   "cell_type": "code",
   "execution_count": null,
   "id": "c3be6ab0",
   "metadata": {},
   "outputs": [],
   "source": [
    "def dice_coef(y_true, y_pred, smooth=1):\n",
    "    y_true_f = K.flatten(y_true)\n",
    "    y_pred_f = K.flatten(y_pred)\n",
    "    intersection = K.sum(y_true_f * y_pred_f)\n",
    "    return (2. * intersection + smooth) / (K.sum(y_true_f) + K.sum(y_pred_f) + smooth)"
   ]
  },
  {
   "cell_type": "code",
   "execution_count": null,
   "id": "6cfea095",
   "metadata": {},
   "outputs": [],
   "source": [
    "def res_block_maxpool(X,stage,s=1,filters=16):\n",
    "    \n",
    "    # name defining basis as used in ResNet assignment\n",
    "    conv_name_base = 'conv' + str(stage) +  '_branch'\n",
    "    pool_name_base = 'pool' + str(stage) +  '_branch'\n",
    "    \n",
    "    # Input value for shortcut layer\n",
    "    X_shortcut = X\n",
    "    \n",
    "    \n",
    "    # Main Path\n",
    "    # Component 1 of main path\n",
    "    X = Activation('relu')(X)\n",
    "    X = Dropout(0.1)(X)\n",
    "    \n",
    "    # Component 2 of main path\n",
    "    X = MaxPooling2D(pool_size = (2,2), padding='same', strides = (1,1), name = pool_name_base + '2a')(X)\n",
    "    X = Activation('relu')(X)\n",
    "    X = Dropout(0.1)(X)\n",
    "    \n",
    "    # Component 3 of main path\n",
    "    X = Conv2D(filters, kernel_size=(3,3), padding='same', strides = (1,1), name = conv_name_base + '2a')(X)\n",
    "    X = Dropout(0.1)(X)\n",
    "    \n",
    "    # Shortcut Path\n",
    "    X_shortcut = Conv2D(filters, kernel_size=(3,3), padding='same', strides = (1,1), name = conv_name_base + '1')(X_shortcut)\n",
    "    X_shortcut = Dropout(0.1)(X_shortcut)\n",
    "    \n",
    "    # Adding main path and activation\n",
    "    X = Add()([X, X_shortcut])\n",
    "    \n",
    "    return X\n",
    "    "
   ]
  },
  {
   "cell_type": "code",
   "execution_count": null,
   "id": "0ff2415b",
   "metadata": {},
   "outputs": [],
   "source": [
    "def res_block_conv(X,stage,s=1,filters=32):\n",
    "    \n",
    "    # name defining basis as used in ResNet assignment\n",
    "    conv_name_base = 'conv' + str(stage) + '_branch'\n",
    "    pool_name_base = 'pool' + str(stage) + '_branch'\n",
    "    \n",
    "    # Input value for shortcut layer\n",
    "    X_shortcut = X\n",
    "    \n",
    "    \n",
    "    # Main Path\n",
    "    # Component 1 of main path\n",
    "    X = Activation('relu')(X)\n",
    "    X = Dropout(0.1)(X)\n",
    "    \n",
    "    # Component 2 of main path\n",
    "    X = Conv2D(filters, kernel_size = (2,2), padding='same', strides = (s,s), name = pool_name_base + '2a')(X)\n",
    "    X = Activation('relu')(X)\n",
    "    X = Dropout(0.1)(X)\n",
    "    \n",
    "    # Component 3 of main path\n",
    "    X = Conv2D(filters, kernel_size=(3,3), padding='same', strides = (s,s), name = conv_name_base + '2a')(X)\n",
    "    X = Dropout(0.1)(X)\n",
    "    \n",
    "    # Shortcut Path\n",
    "    X_shortcut = Conv2D(filters, kernel_size=(3,3),  padding='same', strides = (s,s), name = conv_name_base + '1')(X_shortcut)\n",
    "    X_shortcut = Dropout(0.1)(X_shortcut)\n",
    "    \n",
    "    # Adding main path and activation\n",
    "    X = Add()([X, X_shortcut])\n",
    "    \n",
    "    return X"
   ]
  },
  {
   "cell_type": "code",
   "execution_count": null,
   "id": "a81b40e9",
   "metadata": {},
   "outputs": [],
   "source": [
    "def ResNet(input_shape = (32,32,12), classes=2, filters =16):\n",
    "    \n",
    "    # Input tensor\n",
    "    X_input = Input(input_shape)\n",
    "    \n",
    "    X = X_input\n",
    "    \n",
    "    \n",
    "    # Stage 1\n",
    "    X = Conv2D(filters, kernel_size=(3,3),padding='same', strides=(1,1), name='conv1')(X)\n",
    "    X = BatchNormalization(axis=3, name='bn_conv1')(X)\n",
    "    X = Activation('relu')(X)\n",
    "    X = Dropout(0.1)(X)\n",
    "    X = Conv2D(filters, kernel_size=(3,3),padding='same', strides=(1,1))(X)\n",
    "    \n",
    "    # Stage 2\n",
    "    X = res_block_maxpool(X, stage=2, filters=16, s=1)\n",
    "    \n",
    "    # Stage 3\n",
    "    X = res_block_maxpool(X, stage=3, filters=16, s=1)\n",
    "    \n",
    "    #Stage 4\n",
    "    X = res_block_conv(X, stage=4, filters=32, s=1)\n",
    "    \n",
    "    # Stage 5\n",
    "    X = res_block_conv(X, stage=5, filters=32, s=1)\n",
    "    \n",
    "    # Stage 6\n",
    "    X = Conv2D(filters, kernel_size=(3,3),padding='same', strides=(1,1), name='conv6')(X)\n",
    "    X = Activation('relu')(X)\n",
    "    \n",
    "    # Averagepool\n",
    "    X = AveragePooling2D(pool_size = (2,2),padding='same', strides = (1,1), name = 'AveragePool2a')(X)\n",
    "    X = Conv2D(filters = 1, padding = 'same', kernel_size = (3,3), strides = (1,1), name = 'conv_last')(X)\n",
    "    X = Activation('sigmoid')(X)\n",
    "        \n",
    "    # Create Model\n",
    "    model = Model(inputs = X_input, outputs = X, name = 'ResNet')\n",
    "    \n",
    "    return model"
   ]
  },
  {
   "cell_type": "code",
   "execution_count": null,
   "id": "9c493786",
   "metadata": {},
   "outputs": [],
   "source": [
    "model = ResNet(input_shape = (32,32,12), classes = 2)"
   ]
  },
  {
   "cell_type": "code",
   "execution_count": null,
   "id": "82ad58b4",
   "metadata": {},
   "outputs": [
    {
     "data": {
      "text/plain": [
       "keras.src.engine.functional.Functional"
      ]
     },
     "execution_count": 12,
     "metadata": {},
     "output_type": "execute_result"
    }
   ],
   "source": [
    "type(model)"
   ]
  },
  {
   "cell_type": "code",
   "execution_count": null,
   "id": "1cb7aad3",
   "metadata": {},
   "outputs": [],
   "source": [
    "model.compile(optimizer = 'adam', loss = 'binary_crossentropy', metrics=[dice_coef])"
   ]
  },
  {
   "cell_type": "code",
   "execution_count": null,
   "id": "8a5329a9",
   "metadata": {},
   "outputs": [
    {
     "name": "stdout",
     "output_type": "stream",
     "text": [
      "Epoch 1/10\n",
      "393/393 [==============================] - 50s 124ms/step - loss: 0.1852 - dice_coef: 0.0034\n",
      "Epoch 2/10\n",
      "393/393 [==============================] - 60s 153ms/step - loss: 0.1772 - dice_coef: 0.0018\n",
      "Epoch 3/10\n",
      "393/393 [==============================] - 59s 149ms/step - loss: 0.1451 - dice_coef: 0.0047\n",
      "Epoch 4/10\n",
      "393/393 [==============================] - 54s 137ms/step - loss: 0.0125 - dice_coef: 0.0705\n",
      "Epoch 5/10\n",
      "393/393 [==============================] - 52s 132ms/step - loss: 0.0013 - dice_coef: -0.0047\n",
      "Epoch 6/10\n",
      "393/393 [==============================] - 52s 132ms/step - loss: -0.0189 - dice_coef: 0.0728\n",
      "Epoch 7/10\n",
      "393/393 [==============================] - 50s 127ms/step - loss: -0.0274 - dice_coef: 0.0645\n",
      "Epoch 8/10\n",
      "393/393 [==============================] - 50s 127ms/step - loss: -0.0235 - dice_coef: 0.0662\n",
      "Epoch 9/10\n",
      "393/393 [==============================] - 51s 129ms/step - loss: -0.0281 - dice_coef: 0.2603\n",
      "Epoch 10/10\n",
      "393/393 [==============================] - 53s 136ms/step - loss: -0.0303 - dice_coef: 0.0372\n"
     ]
    },
    {
     "data": {
      "text/plain": [
       "<keras.src.callbacks.History at 0x291cae310>"
      ]
     },
     "execution_count": 14,
     "metadata": {},
     "output_type": "execute_result"
    }
   ],
   "source": [
    "Y_train = np.moveaxis(Y_train, -1, 0)\n",
    "X_train = np.moveaxis(X_train, -1, 0)\n",
    "\n",
    "model.fit(X_train, Y_train, epochs = 10, batch_size = 32)"
   ]
  },
  {
   "cell_type": "code",
   "execution_count": null,
   "id": "2113128a",
   "metadata": {},
   "outputs": [
    {
     "name": "stdout",
     "output_type": "stream",
     "text": [
      "45/45 [==============================] - 1s 27ms/step - loss: -0.1136 - dice_coef: 0.0744\n"
     ]
    }
   ],
   "source": [
    "Y_test = np.moveaxis(Y_test, -1, 0)\n",
    "X_test = np.moveaxis(X_test, -1, 0)\n",
    "\n",
    "preds = model.evaluate(X_test, Y_test)"
   ]
  },
  {
   "cell_type": "code",
   "execution_count": null,
   "id": "40399220",
   "metadata": {},
   "outputs": [
    {
     "name": "stdout",
     "output_type": "stream",
     "text": [
      "Model: \"ResNet\"\n",
      "__________________________________________________________________________________________________\n",
      " Layer (type)                Output Shape                 Param #   Connected to                  \n",
      "==================================================================================================\n",
      " input_1 (InputLayer)        [(None, 32, 32, 12)]         0         []                            \n",
      "                                                                                                  \n",
      " conv1 (Conv2D)              (None, 32, 32, 16)           1744      ['input_1[0][0]']             \n",
      "                                                                                                  \n",
      " bn_conv1 (BatchNormalizati  (None, 32, 32, 16)           64        ['conv1[0][0]']               \n",
      " on)                                                                                              \n",
      "                                                                                                  \n",
      " activation (Activation)     (None, 32, 32, 16)           0         ['bn_conv1[0][0]']            \n",
      "                                                                                                  \n",
      " dropout (Dropout)           (None, 32, 32, 16)           0         ['activation[0][0]']          \n",
      "                                                                                                  \n",
      " conv2d (Conv2D)             (None, 32, 32, 16)           2320      ['dropout[0][0]']             \n",
      "                                                                                                  \n",
      " activation_1 (Activation)   (None, 32, 32, 16)           0         ['conv2d[0][0]']              \n",
      "                                                                                                  \n",
      " dropout_1 (Dropout)         (None, 32, 32, 16)           0         ['activation_1[0][0]']        \n",
      "                                                                                                  \n",
      " pool2_branch2a (MaxPooling  (None, 32, 32, 16)           0         ['dropout_1[0][0]']           \n",
      " 2D)                                                                                              \n",
      "                                                                                                  \n",
      " activation_2 (Activation)   (None, 32, 32, 16)           0         ['pool2_branch2a[0][0]']      \n",
      "                                                                                                  \n",
      " dropout_2 (Dropout)         (None, 32, 32, 16)           0         ['activation_2[0][0]']        \n",
      "                                                                                                  \n",
      " conv2_branch2a (Conv2D)     (None, 32, 32, 16)           2320      ['dropout_2[0][0]']           \n",
      "                                                                                                  \n",
      " conv2_branch1 (Conv2D)      (None, 32, 32, 16)           2320      ['conv2d[0][0]']              \n",
      "                                                                                                  \n",
      " dropout_3 (Dropout)         (None, 32, 32, 16)           0         ['conv2_branch2a[0][0]']      \n",
      "                                                                                                  \n",
      " dropout_4 (Dropout)         (None, 32, 32, 16)           0         ['conv2_branch1[0][0]']       \n",
      "                                                                                                  \n",
      " add (Add)                   (None, 32, 32, 16)           0         ['dropout_3[0][0]',           \n",
      "                                                                     'dropout_4[0][0]']           \n",
      "                                                                                                  \n",
      " activation_3 (Activation)   (None, 32, 32, 16)           0         ['add[0][0]']                 \n",
      "                                                                                                  \n",
      " dropout_5 (Dropout)         (None, 32, 32, 16)           0         ['activation_3[0][0]']        \n",
      "                                                                                                  \n",
      " pool3_branch2a (MaxPooling  (None, 32, 32, 16)           0         ['dropout_5[0][0]']           \n",
      " 2D)                                                                                              \n",
      "                                                                                                  \n",
      " activation_4 (Activation)   (None, 32, 32, 16)           0         ['pool3_branch2a[0][0]']      \n",
      "                                                                                                  \n",
      " dropout_6 (Dropout)         (None, 32, 32, 16)           0         ['activation_4[0][0]']        \n",
      "                                                                                                  \n",
      " conv3_branch2a (Conv2D)     (None, 32, 32, 16)           2320      ['dropout_6[0][0]']           \n",
      "                                                                                                  \n",
      " conv3_branch1 (Conv2D)      (None, 32, 32, 16)           2320      ['add[0][0]']                 \n",
      "                                                                                                  \n",
      " dropout_7 (Dropout)         (None, 32, 32, 16)           0         ['conv3_branch2a[0][0]']      \n",
      "                                                                                                  \n",
      " dropout_8 (Dropout)         (None, 32, 32, 16)           0         ['conv3_branch1[0][0]']       \n",
      "                                                                                                  \n",
      " add_1 (Add)                 (None, 32, 32, 16)           0         ['dropout_7[0][0]',           \n",
      "                                                                     'dropout_8[0][0]']           \n",
      "                                                                                                  \n",
      " activation_5 (Activation)   (None, 32, 32, 16)           0         ['add_1[0][0]']               \n",
      "                                                                                                  \n",
      " dropout_9 (Dropout)         (None, 32, 32, 16)           0         ['activation_5[0][0]']        \n",
      "                                                                                                  \n",
      " pool4_branch2a (Conv2D)     (None, 32, 32, 32)           2080      ['dropout_9[0][0]']           \n",
      "                                                                                                  \n",
      " activation_6 (Activation)   (None, 32, 32, 32)           0         ['pool4_branch2a[0][0]']      \n",
      "                                                                                                  \n",
      " dropout_10 (Dropout)        (None, 32, 32, 32)           0         ['activation_6[0][0]']        \n",
      "                                                                                                  \n",
      " conv4_branch2a (Conv2D)     (None, 32, 32, 32)           9248      ['dropout_10[0][0]']          \n",
      "                                                                                                  \n",
      " conv4_branch1 (Conv2D)      (None, 32, 32, 32)           4640      ['add_1[0][0]']               \n",
      "                                                                                                  \n",
      " dropout_11 (Dropout)        (None, 32, 32, 32)           0         ['conv4_branch2a[0][0]']      \n",
      "                                                                                                  \n",
      " dropout_12 (Dropout)        (None, 32, 32, 32)           0         ['conv4_branch1[0][0]']       \n",
      "                                                                                                  \n",
      " add_2 (Add)                 (None, 32, 32, 32)           0         ['dropout_11[0][0]',          \n",
      "                                                                     'dropout_12[0][0]']          \n",
      "                                                                                                  \n",
      " activation_7 (Activation)   (None, 32, 32, 32)           0         ['add_2[0][0]']               \n",
      "                                                                                                  \n",
      " dropout_13 (Dropout)        (None, 32, 32, 32)           0         ['activation_7[0][0]']        \n",
      "                                                                                                  \n",
      " pool5_branch2a (Conv2D)     (None, 32, 32, 32)           4128      ['dropout_13[0][0]']          \n",
      "                                                                                                  \n",
      " activation_8 (Activation)   (None, 32, 32, 32)           0         ['pool5_branch2a[0][0]']      \n",
      "                                                                                                  \n",
      " dropout_14 (Dropout)        (None, 32, 32, 32)           0         ['activation_8[0][0]']        \n",
      "                                                                                                  \n",
      " conv5_branch2a (Conv2D)     (None, 32, 32, 32)           9248      ['dropout_14[0][0]']          \n",
      "                                                                                                  \n",
      " conv5_branch1 (Conv2D)      (None, 32, 32, 32)           9248      ['add_2[0][0]']               \n",
      "                                                                                                  \n",
      " dropout_15 (Dropout)        (None, 32, 32, 32)           0         ['conv5_branch2a[0][0]']      \n",
      "                                                                                                  \n",
      " dropout_16 (Dropout)        (None, 32, 32, 32)           0         ['conv5_branch1[0][0]']       \n",
      "                                                                                                  \n",
      " add_3 (Add)                 (None, 32, 32, 32)           0         ['dropout_15[0][0]',          \n",
      "                                                                     'dropout_16[0][0]']          \n",
      "                                                                                                  \n",
      " conv6 (Conv2D)              (None, 32, 32, 16)           4624      ['add_3[0][0]']               \n",
      "                                                                                                  \n",
      " activation_9 (Activation)   (None, 32, 32, 16)           0         ['conv6[0][0]']               \n",
      "                                                                                                  \n",
      " AveragePool2a (AveragePool  (None, 32, 32, 16)           0         ['activation_9[0][0]']        \n",
      " ing2D)                                                                                           \n",
      "                                                                                                  \n",
      " conv_last (Conv2D)          (None, 32, 32, 1)            145       ['AveragePool2a[0][0]']       \n",
      "                                                                                                  \n",
      " activation_10 (Activation)  (None, 32, 32, 1)            0         ['conv_last[0][0]']           \n",
      "                                                                                                  \n",
      "==================================================================================================\n",
      "Total params: 56769 (221.75 KB)\n",
      "Trainable params: 56737 (221.63 KB)\n",
      "Non-trainable params: 32 (128.00 Byte)\n",
      "__________________________________________________________________________________________________\n"
     ]
    }
   ],
   "source": [
    "model.summary()"
   ]
  },
  {
   "cell_type": "code",
   "execution_count": null,
   "id": "d2f0ad78",
   "metadata": {},
   "outputs": [
    {
     "name": "stdout",
     "output_type": "stream",
     "text": [
      "1/1 [==============================] - 0s 89ms/step\n"
     ]
    }
   ],
   "source": [
    "x = X_test[2,:,:,:]\n",
    "x = np.expand_dims(x, axis=0)\n",
    "y = model.predict(x)"
   ]
  },
  {
   "cell_type": "code",
   "execution_count": null,
   "id": "0d2658b4",
   "metadata": {},
   "outputs": [
    {
     "data": {
      "text/plain": [
       "<matplotlib.image.AxesImage at 0x291104790>"
      ]
     },
     "execution_count": 18,
     "metadata": {},
     "output_type": "execute_result"
    },
    {
     "data": {
      "image/png": "[encoded data removed]",
      "text/plain": [
       "<Figure size 640x480 with 1 Axes>"
      ]
     },
     "metadata": {},
     "output_type": "display_data"
    }
   ],
   "source": [
    "plt.imshow(y[0,:,:,0])"
   ]
  },
  {
   "cell_type": "code",
   "execution_count": null,
   "id": "16fa5ec1",
   "metadata": {},
   "outputs": [
    {
     "data": {
      "text/plain": [
       "<matplotlib.image.AxesImage at 0x1342b5a50>"
      ]
     },
     "execution_count": 19,
     "metadata": {},
     "output_type": "execute_result"
    },
    {
     "data": {
      "image/png": "[encoded data removed]",
      "text/plain": [
       "<Figure size 640x480 with 1 Axes>"
      ]
     },
     "metadata": {},
     "output_type": "display_data"
    }
   ],
   "source": [
    "plt.imshow(Y_test[2,:,:])"
   ]
  }
 ],
 "metadata": {
  "kernelspec": {
   "display_name": "Python 3",
   "language": "python",
   "name": "python3"
  },
  "language_info": {
   "codemirror_mode": {
    "name": "ipython",
    "version": 3
   },
   "file_extension": ".py",
   "mimetype": "text/x-python",
   "name": "python",
   "nbconvert_exporter": "python",
   "pygments_lexer": "ipython3",
   "version": "3.11.2"
  },
  "toc": {
   "base_numbering": 1,
   "nav_menu": {},
   "number_sections": true,
   "sideBar": true,
   "skip_h1_title": false,
   "title_cell": "Table of Contents",
   "title_sidebar": "Contents",
   "toc_cell": false,
   "toc_position": {},
   "toc_section_display": true,
   "toc_window_display": false
  }
 },
 "nbformat": 4,
 "nbformat_minor": 5
}
